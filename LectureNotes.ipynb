{
 "cells": [
  {
   "cell_type": "code",
   "execution_count": 0,
   "metadata": {
    "colab": {},
    "colab_type": "code",
    "id": "RUK7DdlvwnIi"
   },
   "outputs": [],
   "source": [
    "import numpy as np\n",
    "import pandas as pd\n",
    "from matplotlib import pyplot as plt\n",
    "from sklearn import linear_model as linMdl\n",
    "from sklearn.pipeline import Pipeline\n",
    "from sklearn.preprocessing import StandardScaler, PolynomialFeatures\n",
    "from sklearn import metrics as met\n",
    "from sklearn.model_selection import train_test_split"
   ]
  },
  {
   "cell_type": "code",
   "execution_count": 10,
   "metadata": {
    "colab": {
     "base_uri": "https://localhost:8080/",
     "height": 265
    },
    "colab_type": "code",
    "executionInfo": {
     "elapsed": 1536,
     "status": "ok",
     "timestamp": 1586600822657,
     "user": {
      "displayName": "Inanc Arin",
      "photoUrl": "https://lh3.googleusercontent.com/a-/AOh14GhwrDd71FM95bPBkHfXlfq9P-TE0lWE4EwNSzKaxw=s64",
      "userId": "13506187371134847290"
     },
     "user_tz": -180
    },
    "id": "9Log5X9uq-7O",
    "outputId": "95d1401d-acc5-453a-9ade-65287fd8bd21"
   },
   "outputs": [
    {
     "data": {
      "image/png": "[encoded data removed]",
      "text/plain": [
       "<Figure size 432x288 with 1 Axes>"
      ]
     },
     "metadata": {
      "needs_background": "light",
      "tags": []
     },
     "output_type": "display_data"
    }
   ],
   "source": [
    "m = 100\n",
    "X = np.random.rand(m, 1)\n",
    "y = 3 * X + 4 + np.random.rand(m,1)\n",
    "\n",
    "plt.scatter(X, y)\n",
    "plt.show()"
   ]
  },
  {
   "cell_type": "code",
   "execution_count": 15,
   "metadata": {
    "colab": {
     "base_uri": "https://localhost:8080/",
     "height": 69
    },
    "colab_type": "code",
    "executionInfo": {
     "elapsed": 702,
     "status": "ok",
     "timestamp": 1586601022746,
     "user": {
      "displayName": "Inanc Arin",
      "photoUrl": "https://lh3.googleusercontent.com/a-/AOh14GhwrDd71FM95bPBkHfXlfq9P-TE0lWE4EwNSzKaxw=s64",
      "userId": "13506187371134847290"
     },
     "user_tz": -180
    },
    "id": "61P0-qkPykGF",
    "outputId": "30654527-125c-4bb9-a431-e4cea7f9641d"
   },
   "outputs": [
    {
     "data": {
      "text/plain": [
       "array([[0.54622166],\n",
       "       [0.00498017],\n",
       "       [0.77724279]])"
      ]
     },
     "execution_count": 15,
     "metadata": {
      "tags": []
     },
     "output_type": "execute_result"
    }
   ],
   "source": [
    "X[:3]"
   ]
  },
  {
   "cell_type": "code",
   "execution_count": 17,
   "metadata": {
    "colab": {
     "base_uri": "https://localhost:8080/",
     "height": 69
    },
    "colab_type": "code",
    "executionInfo": {
     "elapsed": 731,
     "status": "ok",
     "timestamp": 1586601049900,
     "user": {
      "displayName": "Inanc Arin",
      "photoUrl": "https://lh3.googleusercontent.com/a-/AOh14GhwrDd71FM95bPBkHfXlfq9P-TE0lWE4EwNSzKaxw=s64",
      "userId": "13506187371134847290"
     },
     "user_tz": -180
    },
    "id": "tFE2xoZrw8Us",
    "outputId": "b641a2f3-3fcb-42c0-87f1-bfa8385fc8b1"
   },
   "outputs": [
    {
     "data": {
      "text/plain": [
       "array([[1.        , 0.54622166],\n",
       "       [1.        , 0.00498017],\n",
       "       [1.        , 0.77724279]])"
      ]
     },
     "execution_count": 17,
     "metadata": {
      "tags": []
     },
     "output_type": "execute_result"
    }
   ],
   "source": [
    "X_b = np.concatenate((np.ones((m, 1)), X), axis=1)\n",
    "X_b[:3]"
   ]
  },
  {
   "cell_type": "code",
   "execution_count": 20,
   "metadata": {
    "colab": {
     "base_uri": "https://localhost:8080/",
     "height": 52
    },
    "colab_type": "code",
    "executionInfo": {
     "elapsed": 721,
     "status": "ok",
     "timestamp": 1586601231405,
     "user": {
      "displayName": "Inanc Arin",
      "photoUrl": "https://lh3.googleusercontent.com/a-/AOh14GhwrDd71FM95bPBkHfXlfq9P-TE0lWE4EwNSzKaxw=s64",
      "userId": "13506187371134847290"
     },
     "user_tz": -180
    },
    "id": "1lS2SezNxNC8",
    "outputId": "4c061ba1-71b9-44a4-ef04-6b8eaebc8f93"
   },
   "outputs": [
    {
     "data": {
      "text/plain": [
       "array([[4.3997322 ],\n",
       "       [3.10027407]])"
      ]
     },
     "execution_count": 20,
     "metadata": {
      "tags": []
     },
     "output_type": "execute_result"
    }
   ],
   "source": [
    "theta = np.linalg.inv(X_b.T.dot(X_b)).dot(X_b.T).dot(y)\n",
    "theta"
   ]
  },
  {
   "cell_type": "code",
   "execution_count": 21,
   "metadata": {
    "colab": {
     "base_uri": "https://localhost:8080/",
     "height": 35
    },
    "colab_type": "code",
    "executionInfo": {
     "elapsed": 740,
     "status": "ok",
     "timestamp": 1586601251499,
     "user": {
      "displayName": "Inanc Arin",
      "photoUrl": "https://lh3.googleusercontent.com/a-/AOh14GhwrDd71FM95bPBkHfXlfq9P-TE0lWE4EwNSzKaxw=s64",
      "userId": "13506187371134847290"
     },
     "user_tz": -180
    },
    "id": "a_T6hcfvy1t-",
    "outputId": "25237762-5b4f-40a0-db5c-3d1c00ba6c21"
   },
   "outputs": [
    {
     "data": {
      "text/plain": [
       "(2, 1)"
      ]
     },
     "execution_count": 21,
     "metadata": {
      "tags": []
     },
     "output_type": "execute_result"
    }
   ],
   "source": [
    "theta.shape"
   ]
  },
  {
   "cell_type": "code",
   "execution_count": 23,
   "metadata": {
    "colab": {
     "base_uri": "https://localhost:8080/",
     "height": 35
    },
    "colab_type": "code",
    "executionInfo": {
     "elapsed": 668,
     "status": "ok",
     "timestamp": 1586601268984,
     "user": {
      "displayName": "Inanc Arin",
      "photoUrl": "https://lh3.googleusercontent.com/a-/AOh14GhwrDd71FM95bPBkHfXlfq9P-TE0lWE4EwNSzKaxw=s64",
      "userId": "13506187371134847290"
     },
     "user_tz": -180
    },
    "id": "NiSvS8OKzc2J",
    "outputId": "9265fd96-b0ac-4e27-cdc7-e93e140656b3"
   },
   "outputs": [
    {
     "data": {
      "text/plain": [
       "(2, 100)"
      ]
     },
     "execution_count": 23,
     "metadata": {
      "tags": []
     },
     "output_type": "execute_result"
    }
   ],
   "source": [
    "X_b.T.shape"
   ]
  },
  {
   "cell_type": "code",
   "execution_count": 0,
   "metadata": {
    "colab": {},
    "colab_type": "code",
    "id": "WzXNuYluzeaH"
   },
   "outputs": [],
   "source": [
    "X_new = np.array([[1, 0.6], [1, 4.1]])"
   ]
  },
  {
   "cell_type": "code",
   "execution_count": 26,
   "metadata": {
    "colab": {
     "base_uri": "https://localhost:8080/",
     "height": 35
    },
    "colab_type": "code",
    "executionInfo": {
     "elapsed": 735,
     "status": "ok",
     "timestamp": 1586601344285,
     "user": {
      "displayName": "Inanc Arin",
      "photoUrl": "https://lh3.googleusercontent.com/a-/AOh14GhwrDd71FM95bPBkHfXlfq9P-TE0lWE4EwNSzKaxw=s64",
      "userId": "13506187371134847290"
     },
     "user_tz": -180
    },
    "id": "7pBC2rRizqmw",
    "outputId": "ddce8e53-3f8b-40f8-cb8e-7eebdbac13ba"
   },
   "outputs": [
    {
     "data": {
      "text/plain": [
       "array([[ 6.25989664, 17.11085587]])"
      ]
     },
     "execution_count": 26,
     "metadata": {
      "tags": []
     },
     "output_type": "execute_result"
    }
   ],
   "source": [
    "theta.T.dot(X_new.T)"
   ]
  },
  {
   "cell_type": "code",
   "execution_count": 28,
   "metadata": {
    "colab": {
     "base_uri": "https://localhost:8080/",
     "height": 69
    },
    "colab_type": "code",
    "executionInfo": {
     "elapsed": 654,
     "status": "ok",
     "timestamp": 1586601472528,
     "user": {
      "displayName": "Inanc Arin",
      "photoUrl": "https://lh3.googleusercontent.com/a-/AOh14GhwrDd71FM95bPBkHfXlfq9P-TE0lWE4EwNSzKaxw=s64",
      "userId": "13506187371134847290"
     },
     "user_tz": -180
    },
    "id": "irIDsaoq0SLy",
    "outputId": "885d4c46-b44c-4ec4-882a-e8670a35dc5e"
   },
   "outputs": [
    {
     "data": {
      "text/plain": [
       "array([[0.54622166],\n",
       "       [0.00498017],\n",
       "       [0.77724279]])"
      ]
     },
     "execution_count": 28,
     "metadata": {
      "tags": []
     },
     "output_type": "execute_result"
    }
   ],
   "source": [
    "X[:3]"
   ]
  },
  {
   "cell_type": "code",
   "execution_count": 29,
   "metadata": {
    "colab": {
     "base_uri": "https://localhost:8080/",
     "height": 35
    },
    "colab_type": "code",
    "executionInfo": {
     "elapsed": 560,
     "status": "ok",
     "timestamp": 1586601487868,
     "user": {
      "displayName": "Inanc Arin",
      "photoUrl": "https://lh3.googleusercontent.com/a-/AOh14GhwrDd71FM95bPBkHfXlfq9P-TE0lWE4EwNSzKaxw=s64",
      "userId": "13506187371134847290"
     },
     "user_tz": -180
    },
    "id": "xOgE_30mztel",
    "outputId": "74ab7841-483a-43ab-9c56-1e93737c52d3"
   },
   "outputs": [
    {
     "data": {
      "text/plain": [
       "LinearRegression(copy_X=True, fit_intercept=True, n_jobs=None, normalize=False)"
      ]
     },
     "execution_count": 29,
     "metadata": {
      "tags": []
     },
     "output_type": "execute_result"
    }
   ],
   "source": [
    "lin = linMdl.LinearRegression()\n",
    "lin.fit(X, y)"
   ]
  },
  {
   "cell_type": "code",
   "execution_count": 30,
   "metadata": {
    "colab": {
     "base_uri": "https://localhost:8080/",
     "height": 35
    },
    "colab_type": "code",
    "executionInfo": {
     "elapsed": 867,
     "status": "ok",
     "timestamp": 1586601509523,
     "user": {
      "displayName": "Inanc Arin",
      "photoUrl": "https://lh3.googleusercontent.com/a-/AOh14GhwrDd71FM95bPBkHfXlfq9P-TE0lWE4EwNSzKaxw=s64",
      "userId": "13506187371134847290"
     },
     "user_tz": -180
    },
    "id": "tST9Gc-F0WsY",
    "outputId": "5792d5db-0d85-4298-e476-43558507d0df"
   },
   "outputs": [
    {
     "data": {
      "text/plain": [
       "array([[3.10027407]])"
      ]
     },
     "execution_count": 30,
     "metadata": {
      "tags": []
     },
     "output_type": "execute_result"
    }
   ],
   "source": [
    "lin.coef_"
   ]
  },
  {
   "cell_type": "code",
   "execution_count": 31,
   "metadata": {
    "colab": {
     "base_uri": "https://localhost:8080/",
     "height": 35
    },
    "colab_type": "code",
    "executionInfo": {
     "elapsed": 643,
     "status": "ok",
     "timestamp": 1586601517161,
     "user": {
      "displayName": "Inanc Arin",
      "photoUrl": "https://lh3.googleusercontent.com/a-/AOh14GhwrDd71FM95bPBkHfXlfq9P-TE0lWE4EwNSzKaxw=s64",
      "userId": "13506187371134847290"
     },
     "user_tz": -180
    },
    "id": "xbsBUXp10b7i",
    "outputId": "042a339c-48f3-49ea-ae12-6d3fdc48353e"
   },
   "outputs": [
    {
     "data": {
      "text/plain": [
       "array([4.3997322])"
      ]
     },
     "execution_count": 31,
     "metadata": {
      "tags": []
     },
     "output_type": "execute_result"
    }
   ],
   "source": [
    "lin.intercept_"
   ]
  },
  {
   "cell_type": "code",
   "execution_count": 32,
   "metadata": {
    "colab": {
     "base_uri": "https://localhost:8080/",
     "height": 52
    },
    "colab_type": "code",
    "executionInfo": {
     "elapsed": 804,
     "status": "ok",
     "timestamp": 1586601526453,
     "user": {
      "displayName": "Inanc Arin",
      "photoUrl": "https://lh3.googleusercontent.com/a-/AOh14GhwrDd71FM95bPBkHfXlfq9P-TE0lWE4EwNSzKaxw=s64",
      "userId": "13506187371134847290"
     },
     "user_tz": -180
    },
    "id": "SWx7HHOQ0d2o",
    "outputId": "ed889168-139e-40e4-a277-1fc85459bef7"
   },
   "outputs": [
    {
     "data": {
      "text/plain": [
       "array([[4.3997322 ],\n",
       "       [3.10027407]])"
      ]
     },
     "execution_count": 32,
     "metadata": {
      "tags": []
     },
     "output_type": "execute_result"
    }
   ],
   "source": [
    "theta"
   ]
  },
  {
   "cell_type": "code",
   "execution_count": 39,
   "metadata": {
    "colab": {
     "base_uri": "https://localhost:8080/",
     "height": 265
    },
    "colab_type": "code",
    "executionInfo": {
     "elapsed": 817,
     "status": "ok",
     "timestamp": 1586603940424,
     "user": {
      "displayName": "Inanc Arin",
      "photoUrl": "https://lh3.googleusercontent.com/a-/AOh14GhwrDd71FM95bPBkHfXlfq9P-TE0lWE4EwNSzKaxw=s64",
      "userId": "13506187371134847290"
     },
     "user_tz": -180
    },
    "id": "jnRYHUqa9eWO",
    "outputId": "283d90db-d3e6-4e60-f9a4-5b12dd45c6a2"
   },
   "outputs": [
    {
     "data": {
      "image/png": "[encoded data removed]",
      "text/plain": [
       "<Figure size 432x288 with 1 Axes>"
      ]
     },
     "metadata": {
      "needs_background": "light",
      "tags": []
     },
     "output_type": "display_data"
    }
   ],
   "source": [
    "y_pred = lin.predict(X)\n",
    "plt.scatter(X, y)\n",
    "plt.plot(X, y_pred, color=\"red\")\n",
    "plt.show()"
   ]
  },
  {
   "cell_type": "code",
   "execution_count": 44,
   "metadata": {
    "colab": {
     "base_uri": "https://localhost:8080/",
     "height": 265
    },
    "colab_type": "code",
    "executionInfo": {
     "elapsed": 1004,
     "status": "ok",
     "timestamp": 1586604202526,
     "user": {
      "displayName": "Inanc Arin",
      "photoUrl": "https://lh3.googleusercontent.com/a-/AOh14GhwrDd71FM95bPBkHfXlfq9P-TE0lWE4EwNSzKaxw=s64",
      "userId": "13506187371134847290"
     },
     "user_tz": -180
    },
    "id": "zONx700Q0f95",
    "outputId": "f6568bf7-0b8b-44cd-f3f8-85ef61ce2d2c"
   },
   "outputs": [
    {
     "data": {
      "image/png": "[encoded data removed]",
      "text/plain": [
       "<Figure size 432x288 with 1 Axes>"
      ]
     },
     "metadata": {
      "needs_background": "light",
      "tags": []
     },
     "output_type": "display_data"
    }
   ],
   "source": [
    "theta = np.random.rand(2, 1)\n",
    "num_steps = 20\n",
    "eta = 0.1\n",
    "for i in range(num_steps):\n",
    "  #calculate gradient\n",
    "  gradient = (2/m) * X_b.T.dot(X_b.dot(theta) - y)\n",
    "  theta = theta - eta * gradient\n",
    "  y_pred = X_b.dot(theta)\n",
    "  if i == 0:\n",
    "    plt.plot(X, y_pred, color=\"green\")\n",
    "  elif i == num_steps-1:\n",
    "    plt.plot(X, y_pred, color=\"red\")\n",
    "  else:\n",
    "    plt.plot(X, y_pred, color=\"orange\")\n",
    "\n",
    "plt.scatter(X, y)\n",
    "plt.show()\n"
   ]
  },
  {
   "cell_type": "code",
   "execution_count": 46,
   "metadata": {
    "colab": {
     "base_uri": "https://localhost:8080/",
     "height": 265
    },
    "colab_type": "code",
    "executionInfo": {
     "elapsed": 979,
     "status": "ok",
     "timestamp": 1586604297479,
     "user": {
      "displayName": "Inanc Arin",
      "photoUrl": "https://lh3.googleusercontent.com/a-/AOh14GhwrDd71FM95bPBkHfXlfq9P-TE0lWE4EwNSzKaxw=s64",
      "userId": "13506187371134847290"
     },
     "user_tz": -180
    },
    "id": "7kB0RLBs8eUe",
    "outputId": "d9c3dd10-bc05-40e9-d312-23135f087cae"
   },
   "outputs": [
    {
     "data": {
      "image/png": "[encoded data removed]",
      "text/plain": [
       "<Figure size 432x288 with 1 Axes>"
      ]
     },
     "metadata": {
      "needs_background": "light",
      "tags": []
     },
     "output_type": "display_data"
    }
   ],
   "source": [
    "theta = np.random.rand(2, 1)\n",
    "num_steps = 100\n",
    "eta = 0.001\n",
    "for i in range(num_steps):\n",
    "  #calculate gradient\n",
    "  gradient = (2/m) * X_b.T.dot(X_b.dot(theta) - y)\n",
    "  theta = theta - eta * gradient\n",
    "  y_pred = X_b.dot(theta)\n",
    "  if i == 0:\n",
    "    plt.plot(X, y_pred, color=\"green\")\n",
    "  elif i == num_steps-1:\n",
    "    plt.plot(X, y_pred, color=\"red\")\n",
    "  else:\n",
    "    plt.plot(X, y_pred, color=\"orange\")\n",
    "\n",
    "plt.scatter(X, y)\n",
    "plt.show()\n"
   ]
  },
  {
   "cell_type": "code",
   "execution_count": 47,
   "metadata": {
    "colab": {
     "base_uri": "https://localhost:8080/",
     "height": 265
    },
    "colab_type": "code",
    "executionInfo": {
     "elapsed": 1037,
     "status": "ok",
     "timestamp": 1586604327120,
     "user": {
      "displayName": "Inanc Arin",
      "photoUrl": "https://lh3.googleusercontent.com/a-/AOh14GhwrDd71FM95bPBkHfXlfq9P-TE0lWE4EwNSzKaxw=s64",
      "userId": "13506187371134847290"
     },
     "user_tz": -180
    },
    "id": "2fE3qn_G_Be_",
    "outputId": "7e109e12-1e43-4c6b-dc48-82a0c94e4861"
   },
   "outputs": [
    {
     "data": {
      "image/png": "[encoded data removed]",
      "text/plain": [
       "<Figure size 432x288 with 1 Axes>"
      ]
     },
     "metadata": {
      "needs_background": "light",
      "tags": []
     },
     "output_type": "display_data"
    }
   ],
   "source": [
    "theta = np.random.rand(2, 1)\n",
    "num_steps = 20\n",
    "eta = 1\n",
    "for i in range(num_steps):\n",
    "  #calculate gradient\n",
    "  gradient = (2/m) * X_b.T.dot(X_b.dot(theta) - y)\n",
    "  theta = theta - eta * gradient\n",
    "  y_pred = X_b.dot(theta)\n",
    "  if i == 0:\n",
    "    plt.plot(X, y_pred, color=\"green\")\n",
    "  elif i == num_steps-1:\n",
    "    plt.plot(X, y_pred, color=\"red\")\n",
    "  else:\n",
    "    plt.plot(X, y_pred, color=\"orange\")\n",
    "\n",
    "plt.scatter(X, y)\n",
    "plt.show()\n"
   ]
  },
  {
   "cell_type": "code",
   "execution_count": 50,
   "metadata": {
    "colab": {
     "base_uri": "https://localhost:8080/",
     "height": 265
    },
    "colab_type": "code",
    "executionInfo": {
     "elapsed": 1013,
     "status": "ok",
     "timestamp": 1586607357762,
     "user": {
      "displayName": "Inanc Arin",
      "photoUrl": "https://lh3.googleusercontent.com/a-/AOh14GhwrDd71FM95bPBkHfXlfq9P-TE0lWE4EwNSzKaxw=s64",
      "userId": "13506187371134847290"
     },
     "user_tz": -180
    },
    "id": "TDLk7MFj_Lwc",
    "outputId": "03b98332-94af-483b-d56d-f285bcfb0a0c"
   },
   "outputs": [
    {
     "data": {
      "image/png": "[encoded data removed]",
      "text/plain": [
       "<Figure size 432x288 with 1 Axes>"
      ]
     },
     "metadata": {
      "needs_background": "light",
      "tags": []
     },
     "output_type": "display_data"
    }
   ],
   "source": [
    "# Stochactis Gradient Descent SGD\n",
    "\n",
    "def select_learning_rate(cur_iter):\n",
    "  return 10 / (100 + cur_iter)\n",
    "\n",
    "theta = np.random.rand(2, 1)\n",
    "num_epoch = 20\n",
    "#eta = 0.1\n",
    "for i in range(num_epoch):\n",
    "  for j in range(m): # epoch \n",
    "    #select random point\n",
    "    rand_index = np.random.randint(0, m-1)\n",
    "    X_rand = X_b[rand_index:rand_index+1] # [[1, 0.6]]\n",
    "    y_rand = y[rand_index:rand_index+1]\n",
    "\n",
    "    #calculate gradient by using single random point\n",
    "    gradient = (2) * X_rand.T.dot(X_rand.dot(theta) - y_rand)\n",
    "    eta = select_learning_rate(i*m + j)\n",
    "    theta = theta - eta * gradient\n",
    "  \n",
    "  y_pred = X_b.dot(theta)\n",
    "  if i == 0:\n",
    "    plt.plot(X, y_pred, color=\"green\")\n",
    "  elif i == num_steps-1:\n",
    "    plt.plot(X, y_pred, color=\"red\")\n",
    "  else:\n",
    "    plt.plot(X, y_pred, color=\"orange\")\n",
    "\n",
    "plt.scatter(X, y)\n",
    "plt.show()\n"
   ]
  },
  {
   "cell_type": "code",
   "execution_count": 49,
   "metadata": {
    "colab": {
     "base_uri": "https://localhost:8080/",
     "height": 175
    },
    "colab_type": "code",
    "executionInfo": {
     "elapsed": 603,
     "status": "ok",
     "timestamp": 1586606354447,
     "user": {
      "displayName": "Inanc Arin",
      "photoUrl": "https://lh3.googleusercontent.com/a-/AOh14GhwrDd71FM95bPBkHfXlfq9P-TE0lWE4EwNSzKaxw=s64",
      "userId": "13506187371134847290"
     },
     "user_tz": -180
    },
    "id": "IYtsEVM8Er6J",
    "outputId": "e3e0964a-aea2-44cb-bdd5-9f7a1fcd478f"
   },
   "outputs": [
    {
     "name": "stderr",
     "output_type": "stream",
     "text": [
      "/usr/local/lib/python3.6/dist-packages/sklearn/utils/validation.py:760: DataConversionWarning: A column-vector y was passed when a 1d array was expected. Please change the shape of y to (n_samples, ), for example using ravel().\n",
      "  y = column_or_1d(y, warn=True)\n"
     ]
    },
    {
     "data": {
      "text/plain": [
       "SGDRegressor(alpha=0.0001, average=False, early_stopping=False, epsilon=0.1,\n",
       "             eta0=0.1, fit_intercept=True, l1_ratio=0.15,\n",
       "             learning_rate='invscaling', loss='squared_loss', max_iter=1000,\n",
       "             n_iter_no_change=5, penalty='l2', power_t=0.25, random_state=None,\n",
       "             shuffle=True, tol=0.001, validation_fraction=0.1, verbose=0,\n",
       "             warm_start=False)"
      ]
     },
     "execution_count": 49,
     "metadata": {
      "tags": []
     },
     "output_type": "execute_result"
    }
   ],
   "source": [
    "sgd = linMdl.SGDRegressor(eta0=0.1)\n",
    "sgd.fit(X, y)"
   ]
  },
  {
   "cell_type": "code",
   "execution_count": 65,
   "metadata": {
    "colab": {
     "base_uri": "https://localhost:8080/",
     "height": 265
    },
    "colab_type": "code",
    "executionInfo": {
     "elapsed": 727,
     "status": "ok",
     "timestamp": 1586608570374,
     "user": {
      "displayName": "Inanc Arin",
      "photoUrl": "https://lh3.googleusercontent.com/a-/AOh14GhwrDd71FM95bPBkHfXlfq9P-TE0lWE4EwNSzKaxw=s64",
      "userId": "13506187371134847290"
     },
     "user_tz": -180
    },
    "id": "1aZuBdLiG6wy",
    "outputId": "8bf7c3df-bedc-457a-8905-bfd0667aba13"
   },
   "outputs": [
    {
     "data": {
      "image/png": "[encoded data removed]",
      "text/plain": [
       "<Figure size 432x288 with 1 Axes>"
      ]
     },
     "metadata": {
      "needs_background": "light",
      "tags": []
     },
     "output_type": "display_data"
    }
   ],
   "source": [
    "m = 300\n",
    "X = np.random.rand(m, 1) * 6 - 3\n",
    "y = 2*X**2 + 3*X + 4 + 4*np.random.rand(m, 1)\n",
    "\n",
    "plt.scatter(X, y)\n",
    "plt.show()"
   ]
  },
  {
   "cell_type": "code",
   "execution_count": 68,
   "metadata": {
    "colab": {
     "base_uri": "https://localhost:8080/",
     "height": 138
    },
    "colab_type": "code",
    "executionInfo": {
     "elapsed": 559,
     "status": "ok",
     "timestamp": 1586608731053,
     "user": {
      "displayName": "Inanc Arin",
      "photoUrl": "https://lh3.googleusercontent.com/a-/AOh14GhwrDd71FM95bPBkHfXlfq9P-TE0lWE4EwNSzKaxw=s64",
      "userId": "13506187371134847290"
     },
     "user_tz": -180
    },
    "id": "HSF3RBNxOqEP",
    "outputId": "fe2e7cbe-7047-4fca-d4be-7b2424a18e67"
   },
   "outputs": [
    {
     "data": {
      "text/plain": [
       "Pipeline(memory=None,\n",
       "         steps=[('scaler',\n",
       "                 StandardScaler(copy=True, with_mean=True, with_std=True)),\n",
       "                ('reg',\n",
       "                 LinearRegression(copy_X=True, fit_intercept=True, n_jobs=None,\n",
       "                                  normalize=False))],\n",
       "         verbose=False)"
      ]
     },
     "execution_count": 68,
     "metadata": {
      "tags": []
     },
     "output_type": "execute_result"
    }
   ],
   "source": [
    "pipe = Pipeline([\n",
    "                 (\"scaler\", StandardScaler()),\n",
    "                 (\"reg\", linMdl.LinearRegression())\n",
    "])\n",
    "pipe.fit(X, y)"
   ]
  },
  {
   "cell_type": "code",
   "execution_count": 70,
   "metadata": {
    "colab": {
     "base_uri": "https://localhost:8080/",
     "height": 265
    },
    "colab_type": "code",
    "executionInfo": {
     "elapsed": 724,
     "status": "ok",
     "timestamp": 1586608770882,
     "user": {
      "displayName": "Inanc Arin",
      "photoUrl": "https://lh3.googleusercontent.com/a-/AOh14GhwrDd71FM95bPBkHfXlfq9P-TE0lWE4EwNSzKaxw=s64",
      "userId": "13506187371134847290"
     },
     "user_tz": -180
    },
    "id": "zww9FkV1P_DP",
    "outputId": "24b87437-1ff9-4e09-9648-e7dc6c4a304d"
   },
   "outputs": [
    {
     "data": {
      "image/png": "[encoded data removed]",
      "text/plain": [
       "<Figure size 432x288 with 1 Axes>"
      ]
     },
     "metadata": {
      "needs_background": "light",
      "tags": []
     },
     "output_type": "display_data"
    }
   ],
   "source": [
    "y_pred = pipe.predict(X)\n",
    "\n",
    "plt.scatter(X, y)\n",
    "plt.scatter(X, y_pred)\n",
    "plt.show()"
   ]
  },
  {
   "cell_type": "code",
   "execution_count": 0,
   "metadata": {
    "colab": {},
    "colab_type": "code",
    "id": "tB_5Wk6bQIwf"
   },
   "outputs": [],
   "source": [
    "def plot_learning_curve(est, X_train, y_train, X_test, y_test):\n",
    "  train_values = []\n",
    "  test_values = []\n",
    "  x_values = range(10, len(X_train), 10)\n",
    "  for i in x_values:\n",
    "    est.fit(X_train[:i], y_train[:i])\n",
    "\n",
    "    y_pred = est.predict(X_train[:i])\n",
    "    train_score = met.mean_squared_error(y_train[:i], y_pred, squared=False)\n",
    "    train_values.append(train_score)\n",
    "\n",
    "    y_pred = est.predict(X_test)\n",
    "    test_score = met.mean_squared_error(y_test, y_pred, squared=False)\n",
    "    test_values.append(test_score)\n",
    "  \n",
    "  plt.plot(x_values, train_values, label=\"train\")\n",
    "  plt.plot(x_values, test_values, label=\"test\")\n",
    "  plt.legend()\n",
    "  plt.title(\"Learning Curve for \" + est.__class__.__name__)\n",
    "  plt.show()"
   ]
  },
  {
   "cell_type": "code",
   "execution_count": 0,
   "metadata": {
    "colab": {},
    "colab_type": "code",
    "id": "2iXBJKBVR9PK"
   },
   "outputs": [],
   "source": [
    "X_train, X_test, y_train, y_test = train_test_split(X, y, test_size=0.33, random_state=42)"
   ]
  },
  {
   "cell_type": "code",
   "execution_count": 77,
   "metadata": {
    "colab": {
     "base_uri": "https://localhost:8080/",
     "height": 281
    },
    "colab_type": "code",
    "executionInfo": {
     "elapsed": 674,
     "status": "ok",
     "timestamp": 1586609420398,
     "user": {
      "displayName": "Inanc Arin",
      "photoUrl": "https://lh3.googleusercontent.com/a-/AOh14GhwrDd71FM95bPBkHfXlfq9P-TE0lWE4EwNSzKaxw=s64",
      "userId": "13506187371134847290"
     },
     "user_tz": -180
    },
    "id": "BaR64nrmScOL",
    "outputId": "5c8e7b79-850f-412c-c1f3-9b56e3ba15c2"
   },
   "outputs": [
    {
     "data": {
      "image/png": "[encoded data removed]",
      "text/plain": [
       "<Figure size 432x288 with 1 Axes>"
      ]
     },
     "metadata": {
      "needs_background": "light",
      "tags": []
     },
     "output_type": "display_data"
    }
   ],
   "source": [
    "plot_learning_curve(pipe, X_train,y_train, X_test, y_test)# underfitting"
   ]
  },
  {
   "cell_type": "code",
   "execution_count": 80,
   "metadata": {
    "colab": {
     "base_uri": "https://localhost:8080/",
     "height": 281
    },
    "colab_type": "code",
    "executionInfo": {
     "elapsed": 848,
     "status": "ok",
     "timestamp": 1586609897787,
     "user": {
      "displayName": "Inanc Arin",
      "photoUrl": "https://lh3.googleusercontent.com/a-/AOh14GhwrDd71FM95bPBkHfXlfq9P-TE0lWE4EwNSzKaxw=s64",
      "userId": "13506187371134847290"
     },
     "user_tz": -180
    },
    "id": "ToJ5ddFoSeEL",
    "outputId": "415942ad-a362-4ac4-dcc9-d034aa5a5290"
   },
   "outputs": [
    {
     "data": {
      "image/png": "[encoded data removed]",
      "text/plain": [
       "<Figure size 432x288 with 1 Axes>"
      ]
     },
     "metadata": {
      "needs_background": "light",
      "tags": []
     },
     "output_type": "display_data"
    }
   ],
   "source": [
    "pipe = Pipeline([\n",
    "                 (\"poly\", PolynomialFeatures(degree=2)),\n",
    "                 (\"scaler\", StandardScaler()),\n",
    "                 (\"reg\", linMdl.LinearRegression())\n",
    "])\n",
    "\n",
    "plot_learning_curve(pipe, X_train,y_train, X_test, y_test)"
   ]
  },
  {
   "cell_type": "code",
   "execution_count": 81,
   "metadata": {
    "colab": {
     "base_uri": "https://localhost:8080/",
     "height": 281
    },
    "colab_type": "code",
    "executionInfo": {
     "elapsed": 759,
     "status": "ok",
     "timestamp": 1586609943831,
     "user": {
      "displayName": "Inanc Arin",
      "photoUrl": "https://lh3.googleusercontent.com/a-/AOh14GhwrDd71FM95bPBkHfXlfq9P-TE0lWE4EwNSzKaxw=s64",
      "userId": "13506187371134847290"
     },
     "user_tz": -180
    },
    "id": "r9jEtruMUXGy",
    "outputId": "c0301009-a178-4227-c3a8-0f8d13ba24ca"
   },
   "outputs": [
    {
     "data": {
      "image/png": "[encoded data removed]",
      "text/plain": [
       "<Figure size 432x288 with 1 Axes>"
      ]
     },
     "metadata": {
      "needs_background": "light",
      "tags": []
     },
     "output_type": "display_data"
    }
   ],
   "source": [
    "pipe = Pipeline([\n",
    "                 (\"poly\", PolynomialFeatures(degree=20)),\n",
    "                 (\"scaler\", StandardScaler()),\n",
    "                 (\"reg\", linMdl.LinearRegression())\n",
    "])\n",
    "\n",
    "plot_learning_curve(pipe, X_train,y_train, X_test, y_test)"
   ]
  },
  {
   "cell_type": "code",
   "execution_count": 82,
   "metadata": {
    "colab": {
     "base_uri": "https://localhost:8080/",
     "height": 265
    },
    "colab_type": "code",
    "executionInfo": {
     "elapsed": 796,
     "status": "ok",
     "timestamp": 1586609991175,
     "user": {
      "displayName": "Inanc Arin",
      "photoUrl": "https://lh3.googleusercontent.com/a-/AOh14GhwrDd71FM95bPBkHfXlfq9P-TE0lWE4EwNSzKaxw=s64",
      "userId": "13506187371134847290"
     },
     "user_tz": -180
    },
    "id": "cwHhokC8UnHH",
    "outputId": "4510479a-834c-4841-c916-cd1e5d19929a"
   },
   "outputs": [
    {
     "data": {
      "image/png": "[encoded data removed]",
      "text/plain": [
       "<Figure size 432x288 with 1 Axes>"
      ]
     },
     "metadata": {
      "needs_background": "light",
      "tags": []
     },
     "output_type": "display_data"
    }
   ],
   "source": [
    "pipe = Pipeline([\n",
    "                 (\"scaler\", StandardScaler()),\n",
    "                 (\"reg\", linMdl.LinearRegression())\n",
    "])\n",
    "pipe.fit(X, y)\n",
    "\n",
    "y_pred = pipe.predict(X)\n",
    "\n",
    "plt.scatter(X, y)\n",
    "plt.scatter(X, y_pred)\n",
    "plt.show()"
   ]
  },
  {
   "cell_type": "code",
   "execution_count": 83,
   "metadata": {
    "colab": {
     "base_uri": "https://localhost:8080/",
     "height": 265
    },
    "colab_type": "code",
    "executionInfo": {
     "elapsed": 785,
     "status": "ok",
     "timestamp": 1586610017140,
     "user": {
      "displayName": "Inanc Arin",
      "photoUrl": "https://lh3.googleusercontent.com/a-/AOh14GhwrDd71FM95bPBkHfXlfq9P-TE0lWE4EwNSzKaxw=s64",
      "userId": "13506187371134847290"
     },
     "user_tz": -180
    },
    "id": "_v_qmHIJUypO",
    "outputId": "1ccdeda7-c071-4fb5-bd9c-38383a5f0173"
   },
   "outputs": [
    {
     "data": {
      "image/png": "[encoded data removed]",
      "text/plain": [
       "<Figure size 432x288 with 1 Axes>"
      ]
     },
     "metadata": {
      "needs_background": "light",
      "tags": []
     },
     "output_type": "display_data"
    }
   ],
   "source": [
    "pipe = Pipeline([\n",
    "                 (\"ploy\", PolynomialFeatures(degree=2)),\n",
    "                 (\"scaler\", StandardScaler()),\n",
    "                 (\"reg\", linMdl.LinearRegression())\n",
    "])\n",
    "pipe.fit(X, y)\n",
    "\n",
    "y_pred = pipe.predict(X)\n",
    "\n",
    "plt.scatter(X, y)\n",
    "plt.scatter(X, y_pred)\n",
    "plt.show()"
   ]
  },
  {
   "cell_type": "code",
   "execution_count": 84,
   "metadata": {
    "colab": {
     "base_uri": "https://localhost:8080/",
     "height": 265
    },
    "colab_type": "code",
    "executionInfo": {
     "elapsed": 782,
     "status": "ok",
     "timestamp": 1586610038046,
     "user": {
      "displayName": "Inanc Arin",
      "photoUrl": "https://lh3.googleusercontent.com/a-/AOh14GhwrDd71FM95bPBkHfXlfq9P-TE0lWE4EwNSzKaxw=s64",
      "userId": "13506187371134847290"
     },
     "user_tz": -180
    },
    "id": "UjnKO4ihU4_X",
    "outputId": "a7534b35-5c24-46a8-e526-7333f3ea4a41"
   },
   "outputs": [
    {
     "data": {
      "image/png": "[encoded data removed]",
      "text/plain": [
       "<Figure size 432x288 with 1 Axes>"
      ]
     },
     "metadata": {
      "needs_background": "light",
      "tags": []
     },
     "output_type": "display_data"
    }
   ],
   "source": [
    "pipe = Pipeline([\n",
    "                 (\"ploy\", PolynomialFeatures(degree=5)),\n",
    "                 (\"scaler\", StandardScaler()),\n",
    "                 (\"reg\", linMdl.LinearRegression())\n",
    "])\n",
    "pipe.fit(X, y)\n",
    "\n",
    "y_pred = pipe.predict(X)\n",
    "\n",
    "plt.scatter(X, y)\n",
    "plt.scatter(X, y_pred)\n",
    "plt.show()"
   ]
  },
  {
   "cell_type": "code",
   "execution_count": 0,
   "metadata": {
    "colab": {},
    "colab_type": "code",
    "id": "7UlELpb2U-G_"
   },
   "outputs": [],
   "source": []
  }
 ],
 "metadata": {
  "colab": {
   "authorship_tag": "ABX9TyPKie/SmIggMgDQQ+88LwZt",
   "name": "LectureNotes.ipynb",
   "provenance": []
  },
  "kernelspec": {
   "display_name": "Python 3 (ipykernel)",
   "language": "python",
   "name": "python3"
  },
  "language_info": {
   "codemirror_mode": {
    "name": "ipython",
    "version": 3
   },
   "file_extension": ".py",
   "mimetype": "text/x-python",
   "name": "python",
   "nbconvert_exporter": "python",
   "pygments_lexer": "ipython3",
   "version": "3.8.13"
  }
 },
 "nbformat": 4,
 "nbformat_minor": 1
}
