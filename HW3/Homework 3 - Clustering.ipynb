{
 "cells": [
  {
   "cell_type": "markdown",
   "metadata": {},
   "source": [
    "Case Summary<a href=\"#Case-Summary\" class=\"anchor-link\">¶</a>\n",
    "-------------------------------------------------------------\n",
    "\n",
    "East-West Airlines is trying to learn more about its customers. Key\n",
    "issues are their flying patterns, earning and use of frequent flyer\n",
    "rewards, and use of the airline credit card. The task is to identify\n",
    "customer segments via clustering. The file EastWestAirlines.xls contains\n",
    "information on 4000 passengers who belong to an airline’s frequent flier\n",
    "program. For each passenger the data include information on their\n",
    "mileage history and on different ways they accrued or spent miles in the\n",
    "last year. **The goal is to try to identify clusters of passengers that\n",
    "have similar charactersitics for the purpose of targeting different\n",
    "segments for different types of mileage offers.**\n",
    "\n",
    "Please prepare a notebook including answers to each of the following\n",
    "questions:\n",
    "\n",
    "1.  Apply hierarchical clustering with Euclidean distance and complete\n",
    "    linkage. How many clusters appear to be appropriate? (***25\n",
    "    points***)\n",
    "\n",
    "2.  Compare the cluster centroids to characterize the different clusters\n",
    "    and try to give each cluster a label. (***20 points***)\n",
    "\n",
    "3.  To check the stability of the clusters, remove a random 5% of the\n",
    "    data (by taking a random sample of 95% of the records, namely 200\n",
    "    records), and repeat the analysis. Does the same picture emerge? Use\n",
    "    425 as the seed. (***10 points***)\n",
    "\n",
    "4.  Use k-means algorithm with the number of clusters you found in part\n",
    "    (a). Does the same picture emerge? (***25 points***)\n",
    "\n",
    "5.  Which clusters would you target for offers, and what type of offers\n",
    "    would you target to customers in that cluster? (***20 points***)\n",
    "\n",
    "Below we provided you with a list of libraries that might be useful for\n",
    "your case study. This list is only a sample of what you might need; you\n",
    "are free to use any additional library serving your purpose.\n",
    "\n",
    "**The homework is due Sunday, October 23 midnight.**\n",
    "\n",
    "Data Description<a href=\"#Data-Description\" class=\"anchor-link\">¶</a>\n",
    "---------------------------------------------------------------------\n",
    "\n",
    "-   **Field Name**=ID\\#; **Data Type**=NUMBER; **Description**=Unique ID\n",
    "\n",
    "-   **Field Name**=Balance; **Data Type**=NUMBER; **Description**=Number\n",
    "    of miles eligible for award travel\n",
    "\n",
    "-   **Field Name**=Qual\\_miles; **Data Type**=NUMBER;\n",
    "    **Description**=Number of miles counted as qualifying for Topflight\n",
    "    status\n",
    "\n",
    "-   **Field Name**=cc1\\_miles; **Data Type**=CHAR;\n",
    "    **Description**=Number of miles earned with freq. flyer credit card\n",
    "    in the past 12 months:\n",
    "\n",
    "-   **Field Name**=cc2\\_miles; **Data Type**=CHAR;\n",
    "    **Description**=Number of miles earned with Rewards credit card in\n",
    "    the past 12 months:\n",
    "\n",
    "-   **Field Name**=cc3\\_miles; **Data Type**=CHAR;\n",
    "    **Description**=Number of miles earned with Small Business credit\n",
    "    card in the past 12 months:\n",
    "\n",
    "-   For cc1\\_miles,cc2\\_miles and cc3\\_miles bins mean following ranges:\n",
    "\n",
    "          - 1 = under 5,000\n",
    "          - 2 = 5,000 - 10,000\n",
    "          - 3 = 10,001 - 25,000\n",
    "          - 4 = 25,001 - 50,000\n",
    "          - 5 = over 50,000\n",
    "\n",
    "-   **Field Name**=Bonus\\_miles; **Data Type**=NUMBER;\n",
    "    **Description**=Number of miles earned from non-flight bonus\n",
    "    transactions in the past 12 months\n",
    "\n",
    "-   **Field Name**=Bonus\\_trans; **Data Type**=NUMBER;\n",
    "    **Description**=Number of non-flight bonus transactions in the past\n",
    "    12 months\n",
    "\n",
    "-   **Field Name**=Flight\\_miles\\_12mo; **Data Type**=NUMBER;\n",
    "    **Description**=Number of flight miles in the past 12 months\n",
    "\n",
    "-   **Field Name**=Flight\\_trans\\_12; **Data Type**=NUMBER;\n",
    "    **Description**=Number of flight transactions in the past 12 months\n",
    "\n",
    "-   **Field Name**=Days\\_since\\_enroll; **Data Type**=NUMBER;\n",
    "    **Description**=Number of days since Enroll\\_date\n",
    "\n",
    "-   **Field Name**=Award?; **Data Type**=NUMBER; **Description**=Dummy\n",
    "    variable for Last\\_award (1=not null, 0=null)"
   ]
  },
  {
   "cell_type": "markdown",
   "metadata": {},
   "source": [
    "# Sample Libraries"
   ]
  },
  {
   "cell_type": "code",
   "execution_count": 1,
   "metadata": {},
   "outputs": [],
   "source": [
    "import pandas as pd\n",
    "import numpy as np\n",
    "import matplotlib.pyplot as plt\n",
    "import seaborn as sns\n",
    "from sklearn.cluster import KMeans, AgglomerativeClustering, DBSCAN"
   ]
  },
  {
   "cell_type": "markdown",
   "metadata": {},
   "source": [
    "# Get Data"
   ]
  },
  {
   "cell_type": "code",
   "execution_count": 186,
   "metadata": {},
   "outputs": [],
   "source": [
    "data=pd.read_excel('EastWestAirlines.xls', sheet_name='data')"
   ]
  },
  {
   "cell_type": "code",
   "execution_count": 6,
   "metadata": {},
   "outputs": [
    {
     "data": {
      "text/html": [
       "<div>\n",
       "<style scoped>\n",
       "    .dataframe tbody tr th:only-of-type {\n",
       "        vertical-align: middle;\n",
       "    }\n",
       "\n",
       "    .dataframe tbody tr th {\n",
       "        vertical-align: top;\n",
       "    }\n",
       "\n",
       "    .dataframe thead th {\n",
       "        text-align: right;\n",
       "    }\n",
       "</style>\n",
       "<table border=\"1\" class=\"dataframe\">\n",
       "  <thead>\n",
       "    <tr style=\"text-align: right;\">\n",
       "      <th></th>\n",
       "      <th>ID</th>\n",
       "      <th>Balance</th>\n",
       "      <th>Qual_miles</th>\n",
       "      <th>cc1_miles</th>\n",
       "      <th>cc2_miles</th>\n",
       "      <th>cc3_miles</th>\n",
       "      <th>Bonus_miles</th>\n",
       "      <th>Bonus_trans</th>\n",
       "      <th>Flight_miles_12mo</th>\n",
       "      <th>Flight_trans_12</th>\n",
       "      <th>Days_since_enroll</th>\n",
       "      <th>Award</th>\n",
       "    </tr>\n",
       "  </thead>\n",
       "  <tbody>\n",
       "    <tr>\n",
       "      <th>0</th>\n",
       "      <td>1</td>\n",
       "      <td>28143</td>\n",
       "      <td>0</td>\n",
       "      <td>1</td>\n",
       "      <td>1</td>\n",
       "      <td>1</td>\n",
       "      <td>174</td>\n",
       "      <td>1</td>\n",
       "      <td>0</td>\n",
       "      <td>0</td>\n",
       "      <td>7000</td>\n",
       "      <td>0</td>\n",
       "    </tr>\n",
       "    <tr>\n",
       "      <th>1</th>\n",
       "      <td>2</td>\n",
       "      <td>19244</td>\n",
       "      <td>0</td>\n",
       "      <td>1</td>\n",
       "      <td>1</td>\n",
       "      <td>1</td>\n",
       "      <td>215</td>\n",
       "      <td>2</td>\n",
       "      <td>0</td>\n",
       "      <td>0</td>\n",
       "      <td>6968</td>\n",
       "      <td>0</td>\n",
       "    </tr>\n",
       "    <tr>\n",
       "      <th>2</th>\n",
       "      <td>3</td>\n",
       "      <td>41354</td>\n",
       "      <td>0</td>\n",
       "      <td>1</td>\n",
       "      <td>1</td>\n",
       "      <td>1</td>\n",
       "      <td>4123</td>\n",
       "      <td>4</td>\n",
       "      <td>0</td>\n",
       "      <td>0</td>\n",
       "      <td>7034</td>\n",
       "      <td>0</td>\n",
       "    </tr>\n",
       "    <tr>\n",
       "      <th>3</th>\n",
       "      <td>4</td>\n",
       "      <td>14776</td>\n",
       "      <td>0</td>\n",
       "      <td>1</td>\n",
       "      <td>1</td>\n",
       "      <td>1</td>\n",
       "      <td>500</td>\n",
       "      <td>1</td>\n",
       "      <td>0</td>\n",
       "      <td>0</td>\n",
       "      <td>6952</td>\n",
       "      <td>0</td>\n",
       "    </tr>\n",
       "    <tr>\n",
       "      <th>4</th>\n",
       "      <td>5</td>\n",
       "      <td>97752</td>\n",
       "      <td>0</td>\n",
       "      <td>4</td>\n",
       "      <td>1</td>\n",
       "      <td>1</td>\n",
       "      <td>43300</td>\n",
       "      <td>26</td>\n",
       "      <td>2077</td>\n",
       "      <td>4</td>\n",
       "      <td>6935</td>\n",
       "      <td>1</td>\n",
       "    </tr>\n",
       "  </tbody>\n",
       "</table>\n",
       "</div>"
      ],
      "text/plain": [
       "   ID  Balance  Qual_miles  cc1_miles  cc2_miles  cc3_miles  Bonus_miles  \\\n",
       "0   1    28143           0          1          1          1          174   \n",
       "1   2    19244           0          1          1          1          215   \n",
       "2   3    41354           0          1          1          1         4123   \n",
       "3   4    14776           0          1          1          1          500   \n",
       "4   5    97752           0          4          1          1        43300   \n",
       "\n",
       "   Bonus_trans  Flight_miles_12mo  Flight_trans_12  Days_since_enroll  Award  \n",
       "0            1                  0                0               7000      0  \n",
       "1            2                  0                0               6968      0  \n",
       "2            4                  0                0               7034      0  \n",
       "3            1                  0                0               6952      0  \n",
       "4           26               2077                4               6935      1  "
      ]
     },
     "execution_count": 6,
     "metadata": {},
     "output_type": "execute_result"
    }
   ],
   "source": [
    "data.head()"
   ]
  },
  {
   "cell_type": "markdown",
   "metadata": {},
   "source": [
    "# Question 1"
   ]
  },
  {
   "cell_type": "markdown",
   "metadata": {},
   "source": [
    "We have used scipy's own linkage module to create a complete linkage by Euclidean distance."
   ]
  },
  {
   "cell_type": "code",
   "execution_count": 87,
   "metadata": {},
   "outputs": [],
   "source": [
    "from scipy.cluster.hierarchy import dendrogram, linkage\n",
    "zipped = list(zip(data.Balance, data.Qual_miles, data.cc1_miles, data.cc2_miles, data.cc3_miles, data.Bonus_miles,\n",
    "                 data.Bonus_trans, data.Flight_miles_12mo, data.Flight_trans_12, data.Days_since_enroll, data.Award))\n",
    "linkage_data = linkage(zipped, method='complete', metric='euclidean')"
   ]
  },
  {
   "cell_type": "markdown",
   "metadata": {},
   "source": [
    "We have then graphed the dendrogram for all of the data. However, this dendrogram was confusing, non-readable and contained too many clusters: preventing it from being handy at all."
   ]
  },
  {
   "cell_type": "code",
   "execution_count": 105,
   "metadata": {},
   "outputs": [
    {
     "data": {
      "image/png": "[encoded data removed]",
      "text/plain": [
       "<Figure size 2000x1000 with 1 Axes>"
      ]
     },
     "metadata": {
      "needs_background": "light"
     },
     "output_type": "display_data"
    }
   ],
   "source": [
    "plt.figure(figsize=(20,10)).set_dpi(100)\n",
    "dendrogram(linkage_data)\n",
    "plt.xticks(rotation=70)\n",
    "plt.title(\"Dendrogram With No Restriction\")\n",
    "plt.show()"
   ]
  },
  {
   "cell_type": "markdown",
   "metadata": {},
   "source": [
    "So we decided to truncate the dendrogram to contain at maximum 5 levels. After that, we have determined that around y = 0.4, cluster size/cluster count ratio was appropriate. **So we have drawn a line that passes through y = 0.4 which intersected the dendrogram at 6 points which represented 5 different clusters and 1 singleton.** "
   ]
  },
  {
   "cell_type": "code",
   "execution_count": 106,
   "metadata": {},
   "outputs": [
    {
     "data": {
      "image/png": "[encoded data removed]",
      "text/plain": [
       "<Figure size 2000x1000 with 1 Axes>"
      ]
     },
     "metadata": {
      "needs_background": "light"
     },
     "output_type": "display_data"
    }
   ],
   "source": [
    "plt.figure(figsize=(20, 10)).set_dpi(100)\n",
    "dendrogram(linkage_data,  p = 5, truncate_mode = 'level')\n",
    "plt.axhline(y=4*pow(10, 5), color = \"#e07ec4\", linewidth = 5)\n",
    "plt.xticks(rotation=70)\n",
    "plt.title(\"Dendrogram Restricted To 5 Levels\")\n",
    "plt.show()"
   ]
  },
  {
   "cell_type": "markdown",
   "metadata": {},
   "source": [
    "# Question 2"
   ]
  },
  {
   "cell_type": "code",
   "execution_count": 203,
   "metadata": {},
   "outputs": [],
   "source": [
    "%%capture\n",
    "struct = data.drop(columns = \"ID\")[:6]\n",
    "kmeans = KMeans(n_clusters=6).fit(zipped)\n",
    "centroids = kmeans.cluster_centers_\n",
    "for i in range(len(struct)):\n",
    "    struct[\"Balance\"][i] = int(centroids[i][0])\n",
    "    struct[\"Qual_miles\"][i] = int(centroids[i][1])\n",
    "    struct[\"cc1_miles\"][i] = centroids[i][2]\n",
    "    struct[\"cc2_miles\"][i] = centroids[i][3]\n",
    "    struct[\"cc3_miles\"][i] = centroids[i][4]\n",
    "    struct[\"Bonus_miles\"][i] = int(centroids[i][5])\n",
    "    struct[\"Bonus_trans\"][i] = int(centroids[i][6])\n",
    "    struct[\"Flight_miles_12mo\"][i] = int(centroids[i][7])\n",
    "    struct[\"Flight_trans_12\"][i] = centroids[i][8]\n",
    "    struct[\"Days_since_enroll\"][i] = int(centroids[i][9])\n",
    "    struct[\"Award\"][i] = centroids[i][10]"
   ]
  },
  {
   "cell_type": "code",
   "execution_count": 204,
   "metadata": {},
   "outputs": [
    {
     "data": {
      "text/html": [
       "<div>\n",
       "<style scoped>\n",
       "    .dataframe tbody tr th:only-of-type {\n",
       "        vertical-align: middle;\n",
       "    }\n",
       "\n",
       "    .dataframe tbody tr th {\n",
       "        vertical-align: top;\n",
       "    }\n",
       "\n",
       "    .dataframe thead th {\n",
       "        text-align: right;\n",
       "    }\n",
       "</style>\n",
       "<table border=\"1\" class=\"dataframe\">\n",
       "  <thead>\n",
       "    <tr style=\"text-align: right;\">\n",
       "      <th></th>\n",
       "      <th>Balance</th>\n",
       "      <th>Qual_miles</th>\n",
       "      <th>cc1_miles</th>\n",
       "      <th>cc2_miles</th>\n",
       "      <th>cc3_miles</th>\n",
       "      <th>Bonus_miles</th>\n",
       "      <th>Bonus_trans</th>\n",
       "      <th>Flight_miles_12mo</th>\n",
       "      <th>Flight_trans_12</th>\n",
       "      <th>Days_since_enroll</th>\n",
       "      <th>Award</th>\n",
       "    </tr>\n",
       "  </thead>\n",
       "  <tbody>\n",
       "    <tr>\n",
       "      <th>0</th>\n",
       "      <td>177183</td>\n",
       "      <td>253</td>\n",
       "      <td>3.071429</td>\n",
       "      <td>1.008403</td>\n",
       "      <td>1.029412</td>\n",
       "      <td>34710</td>\n",
       "      <td>17</td>\n",
       "      <td>901</td>\n",
       "      <td>2.445378</td>\n",
       "      <td>4975</td>\n",
       "      <td>0.476891</td>\n",
       "    </tr>\n",
       "    <tr>\n",
       "      <th>1</th>\n",
       "      <td>23214</td>\n",
       "      <td>97</td>\n",
       "      <td>1.468544</td>\n",
       "      <td>1.018038</td>\n",
       "      <td>1.003520</td>\n",
       "      <td>7346</td>\n",
       "      <td>8</td>\n",
       "      <td>236</td>\n",
       "      <td>0.741751</td>\n",
       "      <td>3696</td>\n",
       "      <td>0.300044</td>\n",
       "    </tr>\n",
       "    <tr>\n",
       "      <th>2</th>\n",
       "      <td>720621</td>\n",
       "      <td>247</td>\n",
       "      <td>3.478261</td>\n",
       "      <td>1.000000</td>\n",
       "      <td>1.130435</td>\n",
       "      <td>60298</td>\n",
       "      <td>21</td>\n",
       "      <td>1533</td>\n",
       "      <td>5.521739</td>\n",
       "      <td>6259</td>\n",
       "      <td>0.826087</td>\n",
       "    </tr>\n",
       "    <tr>\n",
       "      <th>3</th>\n",
       "      <td>82985</td>\n",
       "      <td>153</td>\n",
       "      <td>2.685973</td>\n",
       "      <td>1.009050</td>\n",
       "      <td>1.021719</td>\n",
       "      <td>25260</td>\n",
       "      <td>14</td>\n",
       "      <td>578</td>\n",
       "      <td>1.723982</td>\n",
       "      <td>4392</td>\n",
       "      <td>0.420814</td>\n",
       "    </tr>\n",
       "    <tr>\n",
       "      <th>4</th>\n",
       "      <td>363319</td>\n",
       "      <td>449</td>\n",
       "      <td>3.188034</td>\n",
       "      <td>1.025641</td>\n",
       "      <td>1.000000</td>\n",
       "      <td>49964</td>\n",
       "      <td>20</td>\n",
       "      <td>1589</td>\n",
       "      <td>4.735043</td>\n",
       "      <td>5668</td>\n",
       "      <td>0.717949</td>\n",
       "    </tr>\n",
       "    <tr>\n",
       "      <th>5</th>\n",
       "      <td>1288915</td>\n",
       "      <td>1528</td>\n",
       "      <td>3.000000</td>\n",
       "      <td>1.000000</td>\n",
       "      <td>1.000000</td>\n",
       "      <td>39098</td>\n",
       "      <td>24</td>\n",
       "      <td>2754</td>\n",
       "      <td>11.400000</td>\n",
       "      <td>7821</td>\n",
       "      <td>0.800000</td>\n",
       "    </tr>\n",
       "  </tbody>\n",
       "</table>\n",
       "</div>"
      ],
      "text/plain": [
       "   Balance  Qual_miles  cc1_miles  cc2_miles  cc3_miles  Bonus_miles  \\\n",
       "0   177183         253   3.071429   1.008403   1.029412        34710   \n",
       "1    23214          97   1.468544   1.018038   1.003520         7346   \n",
       "2   720621         247   3.478261   1.000000   1.130435        60298   \n",
       "3    82985         153   2.685973   1.009050   1.021719        25260   \n",
       "4   363319         449   3.188034   1.025641   1.000000        49964   \n",
       "5  1288915        1528   3.000000   1.000000   1.000000        39098   \n",
       "\n",
       "   Bonus_trans  Flight_miles_12mo  Flight_trans_12  Days_since_enroll  \\\n",
       "0           17                901         2.445378               4975   \n",
       "1            8                236         0.741751               3696   \n",
       "2           21               1533         5.521739               6259   \n",
       "3           14                578         1.723982               4392   \n",
       "4           20               1589         4.735043               5668   \n",
       "5           24               2754        11.400000               7821   \n",
       "\n",
       "      Award  \n",
       "0  0.476891  \n",
       "1  0.300044  \n",
       "2  0.826087  \n",
       "3  0.420814  \n",
       "4  0.717949  \n",
       "5  0.800000  "
      ]
     },
     "execution_count": 204,
     "metadata": {},
     "output_type": "execute_result"
    }
   ],
   "source": [
    "struct"
   ]
  },
  {
   "cell_type": "markdown",
   "metadata": {},
   "source": [
    "# Question 3"
   ]
  },
  {
   "cell_type": "markdown",
   "metadata": {},
   "source": [
    "# Question 4"
   ]
  },
  {
   "cell_type": "markdown",
   "metadata": {},
   "source": [
    "# Question 5"
   ]
  },
  {
   "cell_type": "code",
   "execution_count": null,
   "metadata": {},
   "outputs": [],
   "source": []
  }
 ],
 "metadata": {
  "kernelspec": {
   "display_name": "Python 3 (ipykernel)",
   "language": "python",
   "name": "python3",
   "notebook.output.textLineLimit": 30
  },
  "language_info": {
   "codemirror_mode": {
    "name": "ipython",
    "version": 3
   },
   "file_extension": ".py",
   "mimetype": "text/x-python",
   "name": "python",
   "nbconvert_exporter": "python",
   "pygments_lexer": "ipython3",
   "version": "3.8.13"
  }
 },
 "nbformat": 4,
 "nbformat_minor": 2
}
