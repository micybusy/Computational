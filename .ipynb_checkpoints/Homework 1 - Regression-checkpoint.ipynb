{
 "cells": [
  {
   "cell_type": "markdown",
   "metadata": {},
   "source": [
    "# Homework 1\n",
    "\n",
    "For this homework, we are going to work with [Seoul Bike Sharing Demand dataset](https://archive.ics.uci.edu/ml/datasets/Seoul+Bike+Sharing+Demand) from UCI. \n",
    "\n",
    "**The homework is due Sunday, October 9 midnight.**"
   ]
  },
  {
   "cell_type": "markdown",
   "metadata": {},
   "source": [
    "# Task 1\n",
    "\n",
    "First, download the dataset. \n",
    "Read the dataset using ***pandas.read_csv*** function and make preliminary analysis on dataframe.\n",
    "Our aim in this homework is to *predict Rented Bike count*. \n",
    "You can generate your own inputs using the given features if you want. \n",
    "After making analysis, split your data into ***Train*** and ***Test sets***."
   ]
  },
  {
   "cell_type": "markdown",
   "metadata": {},
   "source": [
    "# Task 2\n",
    "\n",
    "Apply a ***Linear Regression*** model. First, try to construct your model without scaling your data. Then, construct another model with scaled inputs. Calculate performance evaluation metrics ***(RMSE, MSE, R-squared)*** for each model."
   ]
  },
  {
   "cell_type": "markdown",
   "metadata": {},
   "source": [
    "# Task 3\n",
    "\n",
    "Explain the calculated evaluation metrics and compare your results model you trained in previous task.\n",
    "If you have any suggestions for alternative methods to improve model performance, explain them."
   ]
  },
  {
   "cell_type": "markdown",
   "metadata": {},
   "source": [
    "# Notes\n",
    "\n",
    "**1.** You must document each step of your tasks: what are you doing, why are you doing it, what problems you encountered and how you solved it. All of these must be explained and documented. **Solutions without sufficient documentations will be penalized accordingly. 50% of your points will come from your code, while the other 50% will come from your explanations.**\n",
    "\n",
    "**2.** You can use MS Excel to inspect the files, but loading them up to python using pandas and inspecting them there under jupyter is easier.\n",
    "\n",
    "**3.** In Task 2, you must split your data into a train and test set, and then evaluate the performance of your model on the test set.\n",
    "\n",
    "**4.**  **Jupyter:** https://jupyter.org/   ,  **Google Colab:** https://colab.research.google.com/  ,  **Anaconda:** https://www.anaconda.com/products/distribution\n"
   ]
  },
  {
   "cell_type": "markdown",
   "metadata": {},
   "source": [
    "# Homework 1 Answers"
   ]
  },
  {
   "cell_type": "markdown",
   "metadata": {},
   "source": [
    "## Task 1"
   ]
  },
  {
   "cell_type": "markdown",
   "metadata": {},
   "source": [
    "We have imported pandas to deal with dataframes, Scikit to get models and deal with data and measure our models' performance, and pyplot to plot our observations."
   ]
  },
  {
   "cell_type": "code",
   "execution_count": 38,
   "metadata": {},
   "outputs": [],
   "source": [
    "import pandas as pd\n",
    "from sklearn.model_selection import train_test_split\n",
    "from sklearn import linear_model\n",
    "from matplotlib import pyplot\n",
    "from sklearn.preprocessing import StandardScaler\n",
    "import sklearn.metrics as metrics"
   ]
  },
  {
   "cell_type": "markdown",
   "metadata": {},
   "source": [
    "Data contains categorical data as well as numerical data, while numerical data is fit for our model we can always deduce useful information from the categorical data as well. We drop the \"Date\" column of the data since it is of no use in any of our work."
   ]
  },
  {
   "cell_type": "code",
   "execution_count": 26,
   "metadata": {
    "scrolled": true
   },
   "outputs": [
    {
     "data": {
      "text/html": [
       "<div>\n",
       "<style scoped>\n",
       "    .dataframe tbody tr th:only-of-type {\n",
       "        vertical-align: middle;\n",
       "    }\n",
       "\n",
       "    .dataframe tbody tr th {\n",
       "        vertical-align: top;\n",
       "    }\n",
       "\n",
       "    .dataframe thead th {\n",
       "        text-align: right;\n",
       "    }\n",
       "</style>\n",
       "<table border=\"1\" class=\"dataframe\">\n",
       "  <thead>\n",
       "    <tr style=\"text-align: right;\">\n",
       "      <th></th>\n",
       "      <th>Rented Bike Count</th>\n",
       "      <th>Hour</th>\n",
       "      <th>Temperature(°C)</th>\n",
       "      <th>Humidity(%)</th>\n",
       "      <th>Wind speed (m/s)</th>\n",
       "      <th>Visibility (10m)</th>\n",
       "      <th>Dew point temperature(°C)</th>\n",
       "      <th>Solar Radiation (MJ/m2)</th>\n",
       "      <th>Rainfall(mm)</th>\n",
       "      <th>Snowfall (cm)</th>\n",
       "      <th>Seasons</th>\n",
       "      <th>Holiday</th>\n",
       "      <th>Functioning Day</th>\n",
       "    </tr>\n",
       "  </thead>\n",
       "  <tbody>\n",
       "    <tr>\n",
       "      <th>0</th>\n",
       "      <td>254</td>\n",
       "      <td>0</td>\n",
       "      <td>-5.2</td>\n",
       "      <td>37</td>\n",
       "      <td>2.2</td>\n",
       "      <td>2000</td>\n",
       "      <td>-17.6</td>\n",
       "      <td>0.0</td>\n",
       "      <td>0.0</td>\n",
       "      <td>0.0</td>\n",
       "      <td>Winter</td>\n",
       "      <td>No Holiday</td>\n",
       "      <td>Yes</td>\n",
       "    </tr>\n",
       "    <tr>\n",
       "      <th>1</th>\n",
       "      <td>204</td>\n",
       "      <td>1</td>\n",
       "      <td>-5.5</td>\n",
       "      <td>38</td>\n",
       "      <td>0.8</td>\n",
       "      <td>2000</td>\n",
       "      <td>-17.6</td>\n",
       "      <td>0.0</td>\n",
       "      <td>0.0</td>\n",
       "      <td>0.0</td>\n",
       "      <td>Winter</td>\n",
       "      <td>No Holiday</td>\n",
       "      <td>Yes</td>\n",
       "    </tr>\n",
       "    <tr>\n",
       "      <th>2</th>\n",
       "      <td>173</td>\n",
       "      <td>2</td>\n",
       "      <td>-6.0</td>\n",
       "      <td>39</td>\n",
       "      <td>1.0</td>\n",
       "      <td>2000</td>\n",
       "      <td>-17.7</td>\n",
       "      <td>0.0</td>\n",
       "      <td>0.0</td>\n",
       "      <td>0.0</td>\n",
       "      <td>Winter</td>\n",
       "      <td>No Holiday</td>\n",
       "      <td>Yes</td>\n",
       "    </tr>\n",
       "    <tr>\n",
       "      <th>3</th>\n",
       "      <td>107</td>\n",
       "      <td>3</td>\n",
       "      <td>-6.2</td>\n",
       "      <td>40</td>\n",
       "      <td>0.9</td>\n",
       "      <td>2000</td>\n",
       "      <td>-17.6</td>\n",
       "      <td>0.0</td>\n",
       "      <td>0.0</td>\n",
       "      <td>0.0</td>\n",
       "      <td>Winter</td>\n",
       "      <td>No Holiday</td>\n",
       "      <td>Yes</td>\n",
       "    </tr>\n",
       "    <tr>\n",
       "      <th>4</th>\n",
       "      <td>78</td>\n",
       "      <td>4</td>\n",
       "      <td>-6.0</td>\n",
       "      <td>36</td>\n",
       "      <td>2.3</td>\n",
       "      <td>2000</td>\n",
       "      <td>-18.6</td>\n",
       "      <td>0.0</td>\n",
       "      <td>0.0</td>\n",
       "      <td>0.0</td>\n",
       "      <td>Winter</td>\n",
       "      <td>No Holiday</td>\n",
       "      <td>Yes</td>\n",
       "    </tr>\n",
       "    <tr>\n",
       "      <th>...</th>\n",
       "      <td>...</td>\n",
       "      <td>...</td>\n",
       "      <td>...</td>\n",
       "      <td>...</td>\n",
       "      <td>...</td>\n",
       "      <td>...</td>\n",
       "      <td>...</td>\n",
       "      <td>...</td>\n",
       "      <td>...</td>\n",
       "      <td>...</td>\n",
       "      <td>...</td>\n",
       "      <td>...</td>\n",
       "      <td>...</td>\n",
       "    </tr>\n",
       "    <tr>\n",
       "      <th>8755</th>\n",
       "      <td>1003</td>\n",
       "      <td>19</td>\n",
       "      <td>4.2</td>\n",
       "      <td>34</td>\n",
       "      <td>2.6</td>\n",
       "      <td>1894</td>\n",
       "      <td>-10.3</td>\n",
       "      <td>0.0</td>\n",
       "      <td>0.0</td>\n",
       "      <td>0.0</td>\n",
       "      <td>Autumn</td>\n",
       "      <td>No Holiday</td>\n",
       "      <td>Yes</td>\n",
       "    </tr>\n",
       "    <tr>\n",
       "      <th>8756</th>\n",
       "      <td>764</td>\n",
       "      <td>20</td>\n",
       "      <td>3.4</td>\n",
       "      <td>37</td>\n",
       "      <td>2.3</td>\n",
       "      <td>2000</td>\n",
       "      <td>-9.9</td>\n",
       "      <td>0.0</td>\n",
       "      <td>0.0</td>\n",
       "      <td>0.0</td>\n",
       "      <td>Autumn</td>\n",
       "      <td>No Holiday</td>\n",
       "      <td>Yes</td>\n",
       "    </tr>\n",
       "    <tr>\n",
       "      <th>8757</th>\n",
       "      <td>694</td>\n",
       "      <td>21</td>\n",
       "      <td>2.6</td>\n",
       "      <td>39</td>\n",
       "      <td>0.3</td>\n",
       "      <td>1968</td>\n",
       "      <td>-9.9</td>\n",
       "      <td>0.0</td>\n",
       "      <td>0.0</td>\n",
       "      <td>0.0</td>\n",
       "      <td>Autumn</td>\n",
       "      <td>No Holiday</td>\n",
       "      <td>Yes</td>\n",
       "    </tr>\n",
       "    <tr>\n",
       "      <th>8758</th>\n",
       "      <td>712</td>\n",
       "      <td>22</td>\n",
       "      <td>2.1</td>\n",
       "      <td>41</td>\n",
       "      <td>1.0</td>\n",
       "      <td>1859</td>\n",
       "      <td>-9.8</td>\n",
       "      <td>0.0</td>\n",
       "      <td>0.0</td>\n",
       "      <td>0.0</td>\n",
       "      <td>Autumn</td>\n",
       "      <td>No Holiday</td>\n",
       "      <td>Yes</td>\n",
       "    </tr>\n",
       "    <tr>\n",
       "      <th>8759</th>\n",
       "      <td>584</td>\n",
       "      <td>23</td>\n",
       "      <td>1.9</td>\n",
       "      <td>43</td>\n",
       "      <td>1.3</td>\n",
       "      <td>1909</td>\n",
       "      <td>-9.3</td>\n",
       "      <td>0.0</td>\n",
       "      <td>0.0</td>\n",
       "      <td>0.0</td>\n",
       "      <td>Autumn</td>\n",
       "      <td>No Holiday</td>\n",
       "      <td>Yes</td>\n",
       "    </tr>\n",
       "  </tbody>\n",
       "</table>\n",
       "<p>8760 rows × 13 columns</p>\n",
       "</div>"
      ],
      "text/plain": [
       "      Rented Bike Count  Hour  Temperature(°C)  Humidity(%)  Wind speed (m/s)  \\\n",
       "0                   254     0             -5.2           37               2.2   \n",
       "1                   204     1             -5.5           38               0.8   \n",
       "2                   173     2             -6.0           39               1.0   \n",
       "3                   107     3             -6.2           40               0.9   \n",
       "4                    78     4             -6.0           36               2.3   \n",
       "...                 ...   ...              ...          ...               ...   \n",
       "8755               1003    19              4.2           34               2.6   \n",
       "8756                764    20              3.4           37               2.3   \n",
       "8757                694    21              2.6           39               0.3   \n",
       "8758                712    22              2.1           41               1.0   \n",
       "8759                584    23              1.9           43               1.3   \n",
       "\n",
       "      Visibility (10m)  Dew point temperature(°C)  Solar Radiation (MJ/m2)  \\\n",
       "0                 2000                      -17.6                      0.0   \n",
       "1                 2000                      -17.6                      0.0   \n",
       "2                 2000                      -17.7                      0.0   \n",
       "3                 2000                      -17.6                      0.0   \n",
       "4                 2000                      -18.6                      0.0   \n",
       "...                ...                        ...                      ...   \n",
       "8755              1894                      -10.3                      0.0   \n",
       "8756              2000                       -9.9                      0.0   \n",
       "8757              1968                       -9.9                      0.0   \n",
       "8758              1859                       -9.8                      0.0   \n",
       "8759              1909                       -9.3                      0.0   \n",
       "\n",
       "      Rainfall(mm)  Snowfall (cm) Seasons     Holiday Functioning Day  \n",
       "0              0.0            0.0  Winter  No Holiday             Yes  \n",
       "1              0.0            0.0  Winter  No Holiday             Yes  \n",
       "2              0.0            0.0  Winter  No Holiday             Yes  \n",
       "3              0.0            0.0  Winter  No Holiday             Yes  \n",
       "4              0.0            0.0  Winter  No Holiday             Yes  \n",
       "...            ...            ...     ...         ...             ...  \n",
       "8755           0.0            0.0  Autumn  No Holiday             Yes  \n",
       "8756           0.0            0.0  Autumn  No Holiday             Yes  \n",
       "8757           0.0            0.0  Autumn  No Holiday             Yes  \n",
       "8758           0.0            0.0  Autumn  No Holiday             Yes  \n",
       "8759           0.0            0.0  Autumn  No Holiday             Yes  \n",
       "\n",
       "[8760 rows x 13 columns]"
      ]
     },
     "execution_count": 26,
     "metadata": {},
     "output_type": "execute_result"
    }
   ],
   "source": [
    "new_df = pd.read_csv(\"SeoulBikeData.csv\", encoding= 'unicode_escape')\n",
    "new_df = new_df.drop(columns= \"Date\")\n",
    "new_df"
   ]
  },
  {
   "cell_type": "markdown",
   "metadata": {},
   "source": [
    "**Splitting data into test and train sets.**"
   ]
  },
  {
   "cell_type": "code",
   "execution_count": 28,
   "metadata": {},
   "outputs": [],
   "source": [
    "train_data, test_data = train_test_split(new_df, test_size = 0.2, random_state = 31)\n",
    "train_data = train_data.reset_index(drop = True); test_data = test_data.reset_index(drop=True);\n",
    "train_no_scale = train_data.drop(columns = [\"Seasons\", \"Holiday\", \"Functioning Day\"])\n",
    "test_no_scale = test_data.drop(columns = [\"Seasons\", \"Holiday\", \"Functioning Day\"])"
   ]
  },
  {
   "cell_type": "markdown",
   "metadata": {},
   "source": [
    "## Task 2"
   ]
  },
  {
   "cell_type": "markdown",
   "metadata": {},
   "source": [
    "When we are not scaling we do not include the columns \"Seasons\", \"Holiday\", and \"Functioning Day\" since they are the only columns that contain categorical data. "
   ]
  },
  {
   "cell_type": "markdown",
   "metadata": {},
   "source": [
    "The function below does the following:  \n",
    "* takes any two train/test sets  \n",
    "* creates a linear regression model based on the train set\n",
    "* makes the model do predictions with the test set\n",
    "* compares the predictions with actual values and calculates the error percentage\n",
    "* plots the error percentage with a filter (predictions that were %5 or closer to the actual value)\n",
    "* returns a dataframe with columns predicted value, actual value and difference percentage."
   ]
  },
  {
   "cell_type": "code",
   "execution_count": 60,
   "metadata": {},
   "outputs": [],
   "source": [
    "def train_model_then_plot(train_data, test_data):\n",
    "    X = train_data.drop(columns = \"Rented Bike Count\")\n",
    "    y = train_data[\"Rented Bike Count\"]\n",
    "    lm = linear_model.LinearRegression()\n",
    "    lm_no_scale = lm.fit(X, y)\n",
    "    prediction_no_scale = lm_no_scale.predict(test_data.drop(columns = \"Rented Bike Count\"))\n",
    "    \n",
    "    percentage = []\n",
    "    for i in range(len(prediction_no_scale)):\n",
    "        perc = abs((prediction_no_scale[i]-test_data[\"Rented Bike Count\"][i])/test_data[\"Rented Bike Count\"][i])*100\n",
    "        percentage.append(perc)\n",
    "        \n",
    "    results = pd.DataFrame({\"Prediction\": prediction_no_scale, \"Actual\": test_data[\"Rented Bike Count\"],\n",
    "                            \"Percentage\":percentage })\n",
    "    \n",
    "    results\n",
    "    pyplot.figure(figsize = (20, 10))\n",
    "    plot_data = results[results[\"Percentage\"]<20]\n",
    "    pyplot.plot(plot_data[\"Percentage\"], \"b*\")\n",
    "    pyplot.title(\"Prediction/Actual value percentages, Filtered to show only those that are smaller than 20%\")\n",
    "    return results"
   ]
  },
  {
   "cell_type": "markdown",
   "metadata": {},
   "source": [
    "We then execute the function with not-scaled train and test sets"
   ]
  },
  {
   "cell_type": "code",
   "execution_count": 40,
   "metadata": {},
   "outputs": [
    {
     "name": "stderr",
     "output_type": "stream",
     "text": [
      "C:\\Users\\hkilic\\AppData\\Local\\Temp\\ipykernel_13552\\4174370829.py:10: RuntimeWarning: divide by zero encountered in double_scalars\n",
      "  perc = abs((prediction_no_scale[i]-test_data[\"Rented Bike Count\"][i])/test_data[\"Rented Bike Count\"][i])*100\n"
     ]
    },
    {
     "data": {
      "image/png": "[encoded data removed]",
      "text/plain": [
       "<Figure size 1440x720 with 1 Axes>"
      ]
     },
     "metadata": {
      "needs_background": "light"
     },
     "output_type": "display_data"
    }
   ],
   "source": [
    "non_scaled_model = train_model_then_plot(train_no_scale, test_no_scale)"
   ]
  },
  {
   "cell_type": "markdown",
   "metadata": {},
   "source": [
    "We then scale the categorical columns of the data. We first use pandas' get_dummies function to binarize the categorical values, then scale the row-values with scikit's StandardScaler class."
   ]
  },
  {
   "cell_type": "code",
   "execution_count": 37,
   "metadata": {},
   "outputs": [],
   "source": [
    "train_scale = train_data.copy().reset_index(drop = True)\n",
    "test_scale = test_data.copy().reset_index(drop = True)\n",
    "\n",
    "def scale_categories(train_scale):\n",
    "    categorical_columns = [\"Holiday\", \"Seasons\", \"Functioning Day\"]\n",
    "    df_to_convert = train_scale[categorical_columns]\n",
    "    df_converted = pd.get_dummies(df_to_convert, columns = categorical_columns)\n",
    "    train_scale = train_scale.drop(columns = categorical_columns)\n",
    "    train_scale = pd.concat([train_scale, df_converted], axis = 1)\n",
    "    return train_scale\n",
    "\n",
    "\n",
    "\n",
    "scaler = StandardScaler()\n",
    "train_scale = scale_categories(train_scale)\n",
    "train_scale = pd.DataFrame(scaler.fit_transform(train_scale), columns = train_scale.columns)\n",
    "test_scale = scale_categories(test_scale)\n",
    "test_scale = pd.DataFrame(scaler.fit_transform(test_scale), columns = test_scale.columns)"
   ]
  },
  {
   "cell_type": "markdown",
   "metadata": {},
   "source": [
    "After that, we train the model with scaled data, and make predictions based on the test data; then similar to what we did above, we compare the results and plot the differences."
   ]
  },
  {
   "cell_type": "code",
   "execution_count": 41,
   "metadata": {},
   "outputs": [
    {
     "data": {
      "image/png": "[encoded data removed]",
      "text/plain": [
       "<Figure size 1440x720 with 1 Axes>"
      ]
     },
     "metadata": {
      "needs_background": "light"
     },
     "output_type": "display_data"
    }
   ],
   "source": [
    "scaled_model = train_model_then_plot(train_scale, test_scale)"
   ]
  },
  {
   "cell_type": "code",
   "execution_count": 58,
   "metadata": {},
   "outputs": [
    {
     "name": "stdout",
     "output_type": "stream",
     "text": [
      "Mean Squared Error for Non-Scaled model: 211211.90538529344\n",
      "Mean Squared Error for Scaled model: 0.43644992126526205\n",
      "\n",
      "Root Mean Squared Error for Non-Scaled model: 459.57796442529036\n",
      "Root Mean Squared Error for Scaled model: 0.660643565975831\n",
      "\n",
      "R-Squared Error for Non-Scaled model: 0.47942732196853\n",
      "R-Squared Error for Scaled model: 0.5635500787347381\n"
     ]
    }
   ],
   "source": [
    "non_scaled_actual = non_scaled_model[\"Actual\"]\n",
    "non_scaled_predicted = non_scaled_model[\"Prediction\"]\n",
    "scaled_actual = scaled_model[\"Actual\"]\n",
    "scaled_predicted = scaled_model[\"Prediction\"]\n",
    "\n",
    "\n",
    "non_scaled_mse = metrics.mean_squared_error(non_scaled_actual, non_scaled_predicted)\n",
    "print(\"Mean Squared Error for Non-Scaled model: \" + str(non_scaled_mse))\n",
    "scaled_mse = metrics.mean_squared_error(scaled_actual, scaled_predicted)\n",
    "print(\"Mean Squared Error for Scaled model: \" + str(scaled_mse))\n",
    "print()\n",
    "print(\"Root Mean Squared Error for Non-Scaled model: \" + str(pow(non_scaled_mse, 0.5)))\n",
    "print(\"Root Mean Squared Error for Scaled model: \" + str(pow(scaled_mse, 0.5)))\n",
    "print()\n",
    "non_scaled_r2 = metrics.r2_score(non_scaled_actual, non_scaled_predicted)\n",
    "scaled_r2 = metrics.r2_score(scaled_actual, scaled_predicted)\n",
    "print(\"R-Squared Error for Non-Scaled model: \" + str(non_scaled_r2))\n",
    "print(\"R-Squared Error for Scaled model: \" + str(scaled_r2))"
   ]
  },
  {
   "cell_type": "markdown",
   "metadata": {},
   "source": [
    "## Task 3"
   ]
  },
  {
   "cell_type": "markdown",
   "metadata": {},
   "source": [
    "* MSE for non-scaled model is very high, which means that the predicted values are far off from the actual values.\n",
    "* MSE for scaled model is indeed low, which means that the predicted values for the scaled model are not very different from the actual values.\n",
    "* RMSE for non-scaled model is 1 unit away from the actual values, which means that the model is not a good predictor at all.\n",
    "* RMSE for scaled model is higher than the MSE for the same model which means that the model predicts very close to the actual values or the actual/predicted values are really small (between 0 and 1).\n",
    "* R^2 Error for Non-Scaled model is below 0.5, which means the model is not a reliable predictor.\n",
    "* R^2 Erro3 for Scaled model is above 0.5 but not very far from it, which means that the model is a reliable but not-too-reliable predictor for the data. "
   ]
  }
 ],
 "metadata": {
  "kernelspec": {
   "display_name": "Python 3 (ipykernel)",
   "language": "python",
   "name": "python3"
  },
  "language_info": {
   "codemirror_mode": {
    "name": "ipython",
    "version": 3
   },
   "file_extension": ".py",
   "mimetype": "text/x-python",
   "name": "python",
   "nbconvert_exporter": "python",
   "pygments_lexer": "ipython3",
   "version": "3.8.13"
  },
  "toc": {
   "base_numbering": 1,
   "nav_menu": {},
   "number_sections": true,
   "sideBar": true,
   "skip_h1_title": false,
   "title_cell": "Table of Contents",
   "title_sidebar": "Contents",
   "toc_cell": false,
   "toc_position": {},
   "toc_section_display": true,
   "toc_window_display": false
  },
  "varInspector": {
   "cols": {
    "lenName": 16,
    "lenType": 16,
    "lenVar": 40
   },
   "kernels_config": {
    "python": {
     "delete_cmd_postfix": "",
     "delete_cmd_prefix": "del ",
     "library": "var_list.py",
     "varRefreshCmd": "print(var_dic_list())"
    },
    "r": {
     "delete_cmd_postfix": ") ",
     "delete_cmd_prefix": "rm(",
     "library": "var_list.r",
     "varRefreshCmd": "cat(var_dic_list()) "
    }
   },
   "types_to_exclude": [
    "module",
    "function",
    "builtin_function_or_method",
    "instance",
    "_Feature"
   ],
   "window_display": false
  }
 },
 "nbformat": 4,
 "nbformat_minor": 2
}
